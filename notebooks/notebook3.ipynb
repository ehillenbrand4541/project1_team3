{
 "cells": [
  {
   "cell_type": "code",
   "execution_count": 1,
   "metadata": {},
   "outputs": [],
   "source": [
    "import pandas as pd\n",
    "import matplotlib.pyplot as plt\n",
    "import seaborn as sns\n",
    "import numpy as np"
   ]
  },
  {
   "cell_type": "code",
   "execution_count": 2,
   "metadata": {},
   "outputs": [],
   "source": [
    "url = 'http://web.mta.info/developers/data/nyct/turnstile/turnstile_190921.txt'\n",
    "#url2 = 'http://web.mta.info/developers/data/nyct/turnstile/turnstile_190914.txt'\n",
    "mta = pd.read_csv(url)"
   ]
  },
  {
   "cell_type": "code",
   "execution_count": null,
   "metadata": {},
   "outputs": [],
   "source": [
    "# Urls with selected MTA data\n",
    "urls = [\n",
    "    '',\n",
    "    '',\n",
    "    '',\n",
    "    ''\n",
    "]"
   ]
  },
  {
   "cell_type": "code",
   "execution_count": null,
   "metadata": {},
   "outputs": [],
   "source": [
    "# Read csv files in a dataframe\n",
    "df_list = []\n",
    "for url in urls:\n",
    "    df_list.append(pd.read_csv(url))\n",
    "\n",
    "mta = pd.concat(df_list)"
   ]
  },
  {
   "cell_type": "markdown",
   "metadata": {},
   "source": [
    "## Initial data quality assessment"
   ]
  },
  {
   "cell_type": "code",
   "execution_count": 3,
   "metadata": {},
   "outputs": [
    {
     "data": {
      "text/plain": [
       "(204928, 11)"
      ]
     },
     "execution_count": 3,
     "metadata": {},
     "output_type": "execute_result"
    }
   ],
   "source": [
    "mta.shape"
   ]
  },
  {
   "cell_type": "code",
   "execution_count": 4,
   "metadata": {},
   "outputs": [
    {
     "data": {
      "text/html": [
       "<div>\n",
       "<style scoped>\n",
       "    .dataframe tbody tr th:only-of-type {\n",
       "        vertical-align: middle;\n",
       "    }\n",
       "\n",
       "    .dataframe tbody tr th {\n",
       "        vertical-align: top;\n",
       "    }\n",
       "\n",
       "    .dataframe thead th {\n",
       "        text-align: right;\n",
       "    }\n",
       "</style>\n",
       "<table border=\"1\" class=\"dataframe\">\n",
       "  <thead>\n",
       "    <tr style=\"text-align: right;\">\n",
       "      <th></th>\n",
       "      <th>C/A</th>\n",
       "      <th>UNIT</th>\n",
       "      <th>SCP</th>\n",
       "      <th>STATION</th>\n",
       "      <th>LINENAME</th>\n",
       "      <th>DIVISION</th>\n",
       "      <th>DATE</th>\n",
       "      <th>TIME</th>\n",
       "      <th>DESC</th>\n",
       "      <th>ENTRIES</th>\n",
       "      <th>EXITS</th>\n",
       "    </tr>\n",
       "  </thead>\n",
       "  <tbody>\n",
       "    <tr>\n",
       "      <td>0</td>\n",
       "      <td>A002</td>\n",
       "      <td>R051</td>\n",
       "      <td>02-00-00</td>\n",
       "      <td>59 ST</td>\n",
       "      <td>NQR456W</td>\n",
       "      <td>BMT</td>\n",
       "      <td>09/14/2019</td>\n",
       "      <td>00:00:00</td>\n",
       "      <td>REGULAR</td>\n",
       "      <td>7198818</td>\n",
       "      <td>2438323</td>\n",
       "    </tr>\n",
       "    <tr>\n",
       "      <td>1</td>\n",
       "      <td>A002</td>\n",
       "      <td>R051</td>\n",
       "      <td>02-00-00</td>\n",
       "      <td>59 ST</td>\n",
       "      <td>NQR456W</td>\n",
       "      <td>BMT</td>\n",
       "      <td>09/14/2019</td>\n",
       "      <td>04:00:00</td>\n",
       "      <td>REGULAR</td>\n",
       "      <td>7198834</td>\n",
       "      <td>2438325</td>\n",
       "    </tr>\n",
       "    <tr>\n",
       "      <td>2</td>\n",
       "      <td>A002</td>\n",
       "      <td>R051</td>\n",
       "      <td>02-00-00</td>\n",
       "      <td>59 ST</td>\n",
       "      <td>NQR456W</td>\n",
       "      <td>BMT</td>\n",
       "      <td>09/14/2019</td>\n",
       "      <td>08:00:00</td>\n",
       "      <td>REGULAR</td>\n",
       "      <td>7198847</td>\n",
       "      <td>2438354</td>\n",
       "    </tr>\n",
       "    <tr>\n",
       "      <td>3</td>\n",
       "      <td>A002</td>\n",
       "      <td>R051</td>\n",
       "      <td>02-00-00</td>\n",
       "      <td>59 ST</td>\n",
       "      <td>NQR456W</td>\n",
       "      <td>BMT</td>\n",
       "      <td>09/14/2019</td>\n",
       "      <td>12:00:00</td>\n",
       "      <td>REGULAR</td>\n",
       "      <td>7198929</td>\n",
       "      <td>2438428</td>\n",
       "    </tr>\n",
       "    <tr>\n",
       "      <td>4</td>\n",
       "      <td>A002</td>\n",
       "      <td>R051</td>\n",
       "      <td>02-00-00</td>\n",
       "      <td>59 ST</td>\n",
       "      <td>NQR456W</td>\n",
       "      <td>BMT</td>\n",
       "      <td>09/14/2019</td>\n",
       "      <td>16:00:00</td>\n",
       "      <td>REGULAR</td>\n",
       "      <td>7199125</td>\n",
       "      <td>2438483</td>\n",
       "    </tr>\n",
       "  </tbody>\n",
       "</table>\n",
       "</div>"
      ],
      "text/plain": [
       "    C/A  UNIT       SCP STATION LINENAME DIVISION        DATE      TIME  \\\n",
       "0  A002  R051  02-00-00   59 ST  NQR456W      BMT  09/14/2019  00:00:00   \n",
       "1  A002  R051  02-00-00   59 ST  NQR456W      BMT  09/14/2019  04:00:00   \n",
       "2  A002  R051  02-00-00   59 ST  NQR456W      BMT  09/14/2019  08:00:00   \n",
       "3  A002  R051  02-00-00   59 ST  NQR456W      BMT  09/14/2019  12:00:00   \n",
       "4  A002  R051  02-00-00   59 ST  NQR456W      BMT  09/14/2019  16:00:00   \n",
       "\n",
       "      DESC  ENTRIES  \\\n",
       "0  REGULAR  7198818   \n",
       "1  REGULAR  7198834   \n",
       "2  REGULAR  7198847   \n",
       "3  REGULAR  7198929   \n",
       "4  REGULAR  7199125   \n",
       "\n",
       "   EXITS                                                                 \n",
       "0                                            2438323                     \n",
       "1                                            2438325                     \n",
       "2                                            2438354                     \n",
       "3                                            2438428                     \n",
       "4                                            2438483                     "
      ]
     },
     "execution_count": 4,
     "metadata": {},
     "output_type": "execute_result"
    }
   ],
   "source": [
    "mta.head()"
   ]
  },
  {
   "cell_type": "code",
   "execution_count": 5,
   "metadata": {},
   "outputs": [
    {
     "name": "stdout",
     "output_type": "stream",
     "text": [
      "<class 'pandas.core.frame.DataFrame'>\n",
      "RangeIndex: 204928 entries, 0 to 204927\n",
      "Data columns (total 11 columns):\n",
      "C/A                                                                     204928 non-null object\n",
      "UNIT                                                                    204928 non-null object\n",
      "SCP                                                                     204928 non-null object\n",
      "STATION                                                                 204928 non-null object\n",
      "LINENAME                                                                204928 non-null object\n",
      "DIVISION                                                                204928 non-null object\n",
      "DATE                                                                    204928 non-null object\n",
      "TIME                                                                    204928 non-null object\n",
      "DESC                                                                    204928 non-null object\n",
      "ENTRIES                                                                 204928 non-null int64\n",
      "EXITS                                                                   204928 non-null int64\n",
      "dtypes: int64(2), object(9)\n",
      "memory usage: 17.2+ MB\n"
     ]
    }
   ],
   "source": [
    "# Check data for missing or null values\n",
    "mta.info()"
   ]
  },
  {
   "cell_type": "code",
   "execution_count": 6,
   "metadata": {},
   "outputs": [
    {
     "data": {
      "text/plain": [
       "Index(['C/A', 'UNIT', 'SCP', 'STATION', 'LINENAME', 'DIVISION', 'DATE', 'TIME',\n",
       "       'DESC', 'ENTRIES',\n",
       "       'EXITS                                                               '],\n",
       "      dtype='object')"
      ]
     },
     "execution_count": 6,
     "metadata": {},
     "output_type": "execute_result"
    }
   ],
   "source": [
    "mta.columns"
   ]
  },
  {
   "cell_type": "code",
   "execution_count": 7,
   "metadata": {},
   "outputs": [],
   "source": [
    "# Rename columns\n",
    "mta.rename(columns={\n",
    "    'C/A':'c_a',\n",
    "    'UNIT':'unit',\n",
    "    'SCP':'scp',\n",
    "    'STATION':'station',\n",
    "    'LINENAME':'linename',\n",
    "    'DIVISION':'devision',\n",
    "    'DATE':'date',\n",
    "    'TIME':'time',\n",
    "    'DESC':'desc',\n",
    "    'ENTRIES':'entries',\n",
    "    'EXITS                                                               ':'exits'\n",
    "    }, inplace=True)"
   ]
  },
  {
   "cell_type": "code",
   "execution_count": 8,
   "metadata": {},
   "outputs": [
    {
     "data": {
      "text/plain": [
       "(42105051.90047236, 0, 2129093303)"
      ]
     },
     "execution_count": 8,
     "metadata": {},
     "output_type": "execute_result"
    }
   ],
   "source": [
    "mta.entries.mean(), mta.entries.min(), mta.entries.max()"
   ]
  },
  {
   "cell_type": "code",
   "execution_count": 9,
   "metadata": {},
   "outputs": [
    {
     "data": {
      "text/plain": [
       "(34874226.86503553, 0, 2123772306)"
      ]
     },
     "execution_count": 9,
     "metadata": {},
     "output_type": "execute_result"
    }
   ],
   "source": [
    "mta.exits.mean(), mta.exits.min(), mta.exits.max()"
   ]
  },
  {
   "cell_type": "markdown",
   "metadata": {},
   "source": []
  },
  {
   "cell_type": "markdown",
   "metadata": {},
   "source": [
    "## Data massaging"
   ]
  },
  {
   "cell_type": "code",
   "execution_count": 10,
   "metadata": {},
   "outputs": [
    {
     "data": {
      "text/html": [
       "<div>\n",
       "<style scoped>\n",
       "    .dataframe tbody tr th:only-of-type {\n",
       "        vertical-align: middle;\n",
       "    }\n",
       "\n",
       "    .dataframe tbody tr th {\n",
       "        vertical-align: top;\n",
       "    }\n",
       "\n",
       "    .dataframe thead th {\n",
       "        text-align: right;\n",
       "    }\n",
       "</style>\n",
       "<table border=\"1\" class=\"dataframe\">\n",
       "  <thead>\n",
       "    <tr style=\"text-align: right;\">\n",
       "      <th></th>\n",
       "      <th>c_a</th>\n",
       "      <th>unit</th>\n",
       "      <th>scp</th>\n",
       "      <th>station</th>\n",
       "      <th>linename</th>\n",
       "      <th>devision</th>\n",
       "      <th>date</th>\n",
       "      <th>time</th>\n",
       "      <th>desc</th>\n",
       "      <th>entries</th>\n",
       "      <th>exits</th>\n",
       "      <th>turnstile_id</th>\n",
       "    </tr>\n",
       "  </thead>\n",
       "  <tbody>\n",
       "    <tr>\n",
       "      <td>0</td>\n",
       "      <td>A002</td>\n",
       "      <td>R051</td>\n",
       "      <td>02-00-00</td>\n",
       "      <td>59 ST</td>\n",
       "      <td>NQR456W</td>\n",
       "      <td>BMT</td>\n",
       "      <td>09/14/2019</td>\n",
       "      <td>00:00:00</td>\n",
       "      <td>REGULAR</td>\n",
       "      <td>7198818</td>\n",
       "      <td>2438323</td>\n",
       "      <td>A002, R051, 02-00-00, 59 ST</td>\n",
       "    </tr>\n",
       "    <tr>\n",
       "      <td>1</td>\n",
       "      <td>A002</td>\n",
       "      <td>R051</td>\n",
       "      <td>02-00-00</td>\n",
       "      <td>59 ST</td>\n",
       "      <td>NQR456W</td>\n",
       "      <td>BMT</td>\n",
       "      <td>09/14/2019</td>\n",
       "      <td>04:00:00</td>\n",
       "      <td>REGULAR</td>\n",
       "      <td>7198834</td>\n",
       "      <td>2438325</td>\n",
       "      <td>A002, R051, 02-00-00, 59 ST</td>\n",
       "    </tr>\n",
       "    <tr>\n",
       "      <td>2</td>\n",
       "      <td>A002</td>\n",
       "      <td>R051</td>\n",
       "      <td>02-00-00</td>\n",
       "      <td>59 ST</td>\n",
       "      <td>NQR456W</td>\n",
       "      <td>BMT</td>\n",
       "      <td>09/14/2019</td>\n",
       "      <td>08:00:00</td>\n",
       "      <td>REGULAR</td>\n",
       "      <td>7198847</td>\n",
       "      <td>2438354</td>\n",
       "      <td>A002, R051, 02-00-00, 59 ST</td>\n",
       "    </tr>\n",
       "    <tr>\n",
       "      <td>3</td>\n",
       "      <td>A002</td>\n",
       "      <td>R051</td>\n",
       "      <td>02-00-00</td>\n",
       "      <td>59 ST</td>\n",
       "      <td>NQR456W</td>\n",
       "      <td>BMT</td>\n",
       "      <td>09/14/2019</td>\n",
       "      <td>12:00:00</td>\n",
       "      <td>REGULAR</td>\n",
       "      <td>7198929</td>\n",
       "      <td>2438428</td>\n",
       "      <td>A002, R051, 02-00-00, 59 ST</td>\n",
       "    </tr>\n",
       "    <tr>\n",
       "      <td>4</td>\n",
       "      <td>A002</td>\n",
       "      <td>R051</td>\n",
       "      <td>02-00-00</td>\n",
       "      <td>59 ST</td>\n",
       "      <td>NQR456W</td>\n",
       "      <td>BMT</td>\n",
       "      <td>09/14/2019</td>\n",
       "      <td>16:00:00</td>\n",
       "      <td>REGULAR</td>\n",
       "      <td>7199125</td>\n",
       "      <td>2438483</td>\n",
       "      <td>A002, R051, 02-00-00, 59 ST</td>\n",
       "    </tr>\n",
       "    <tr>\n",
       "      <td>5</td>\n",
       "      <td>A002</td>\n",
       "      <td>R051</td>\n",
       "      <td>02-00-00</td>\n",
       "      <td>59 ST</td>\n",
       "      <td>NQR456W</td>\n",
       "      <td>BMT</td>\n",
       "      <td>09/14/2019</td>\n",
       "      <td>20:00:00</td>\n",
       "      <td>REGULAR</td>\n",
       "      <td>7199405</td>\n",
       "      <td>2438527</td>\n",
       "      <td>A002, R051, 02-00-00, 59 ST</td>\n",
       "    </tr>\n",
       "    <tr>\n",
       "      <td>6</td>\n",
       "      <td>A002</td>\n",
       "      <td>R051</td>\n",
       "      <td>02-00-00</td>\n",
       "      <td>59 ST</td>\n",
       "      <td>NQR456W</td>\n",
       "      <td>BMT</td>\n",
       "      <td>09/15/2019</td>\n",
       "      <td>00:00:00</td>\n",
       "      <td>REGULAR</td>\n",
       "      <td>7199547</td>\n",
       "      <td>2438545</td>\n",
       "      <td>A002, R051, 02-00-00, 59 ST</td>\n",
       "    </tr>\n",
       "    <tr>\n",
       "      <td>7</td>\n",
       "      <td>A002</td>\n",
       "      <td>R051</td>\n",
       "      <td>02-00-00</td>\n",
       "      <td>59 ST</td>\n",
       "      <td>NQR456W</td>\n",
       "      <td>BMT</td>\n",
       "      <td>09/15/2019</td>\n",
       "      <td>04:00:00</td>\n",
       "      <td>REGULAR</td>\n",
       "      <td>7199567</td>\n",
       "      <td>2438547</td>\n",
       "      <td>A002, R051, 02-00-00, 59 ST</td>\n",
       "    </tr>\n",
       "    <tr>\n",
       "      <td>8</td>\n",
       "      <td>A002</td>\n",
       "      <td>R051</td>\n",
       "      <td>02-00-00</td>\n",
       "      <td>59 ST</td>\n",
       "      <td>NQR456W</td>\n",
       "      <td>BMT</td>\n",
       "      <td>09/15/2019</td>\n",
       "      <td>08:00:00</td>\n",
       "      <td>REGULAR</td>\n",
       "      <td>7199579</td>\n",
       "      <td>2438564</td>\n",
       "      <td>A002, R051, 02-00-00, 59 ST</td>\n",
       "    </tr>\n",
       "    <tr>\n",
       "      <td>9</td>\n",
       "      <td>A002</td>\n",
       "      <td>R051</td>\n",
       "      <td>02-00-00</td>\n",
       "      <td>59 ST</td>\n",
       "      <td>NQR456W</td>\n",
       "      <td>BMT</td>\n",
       "      <td>09/15/2019</td>\n",
       "      <td>12:00:00</td>\n",
       "      <td>REGULAR</td>\n",
       "      <td>7199648</td>\n",
       "      <td>2438630</td>\n",
       "      <td>A002, R051, 02-00-00, 59 ST</td>\n",
       "    </tr>\n",
       "  </tbody>\n",
       "</table>\n",
       "</div>"
      ],
      "text/plain": [
       "    c_a  unit       scp station linename devision        date      time  \\\n",
       "0  A002  R051  02-00-00   59 ST  NQR456W      BMT  09/14/2019  00:00:00   \n",
       "1  A002  R051  02-00-00   59 ST  NQR456W      BMT  09/14/2019  04:00:00   \n",
       "2  A002  R051  02-00-00   59 ST  NQR456W      BMT  09/14/2019  08:00:00   \n",
       "3  A002  R051  02-00-00   59 ST  NQR456W      BMT  09/14/2019  12:00:00   \n",
       "4  A002  R051  02-00-00   59 ST  NQR456W      BMT  09/14/2019  16:00:00   \n",
       "5  A002  R051  02-00-00   59 ST  NQR456W      BMT  09/14/2019  20:00:00   \n",
       "6  A002  R051  02-00-00   59 ST  NQR456W      BMT  09/15/2019  00:00:00   \n",
       "7  A002  R051  02-00-00   59 ST  NQR456W      BMT  09/15/2019  04:00:00   \n",
       "8  A002  R051  02-00-00   59 ST  NQR456W      BMT  09/15/2019  08:00:00   \n",
       "9  A002  R051  02-00-00   59 ST  NQR456W      BMT  09/15/2019  12:00:00   \n",
       "\n",
       "      desc  entries    exits                 turnstile_id  \n",
       "0  REGULAR  7198818  2438323  A002, R051, 02-00-00, 59 ST  \n",
       "1  REGULAR  7198834  2438325  A002, R051, 02-00-00, 59 ST  \n",
       "2  REGULAR  7198847  2438354  A002, R051, 02-00-00, 59 ST  \n",
       "3  REGULAR  7198929  2438428  A002, R051, 02-00-00, 59 ST  \n",
       "4  REGULAR  7199125  2438483  A002, R051, 02-00-00, 59 ST  \n",
       "5  REGULAR  7199405  2438527  A002, R051, 02-00-00, 59 ST  \n",
       "6  REGULAR  7199547  2438545  A002, R051, 02-00-00, 59 ST  \n",
       "7  REGULAR  7199567  2438547  A002, R051, 02-00-00, 59 ST  \n",
       "8  REGULAR  7199579  2438564  A002, R051, 02-00-00, 59 ST  \n",
       "9  REGULAR  7199648  2438630  A002, R051, 02-00-00, 59 ST  "
      ]
     },
     "execution_count": 10,
     "metadata": {},
     "output_type": "execute_result"
    }
   ],
   "source": [
    "#Make a column with a unique ID for each turnstile\n",
    "mta['turnstile_id'] = mta['c_a'] + ', ' + mta['unit'] + ', '+ mta['scp'] + ', ' + mta['station']\n",
    "mta.head(10)"
   ]
  },
  {
   "cell_type": "code",
   "execution_count": 11,
   "metadata": {},
   "outputs": [
    {
     "data": {
      "text/plain": [
       "N336, R158, 00-00-00, KEW GARDENS         52\n",
       "N336, R158, 00-05-00, KEW GARDENS         52\n",
       "N336, R158, 00-03-01, KEW GARDENS         52\n",
       "N336, R158, 00-00-04, KEW GARDENS         52\n",
       "N336, R158, 00-00-02, KEW GARDENS         52\n",
       "                                          ..\n",
       "R504, R276, 00-00-01, VERNON-JACKSON      14\n",
       "PTH16, R550, 01-02-03, LACKAWANNA         14\n",
       "PTH17, R541, 01-00-02, THIRTY THIRD ST    10\n",
       "PTH06, R546, 00-00-00, PAVONIA/NEWPORT     8\n",
       "A007, R079, 01-06-01, 5 AV/59 ST           4\n",
       "Name: turnstile_id, Length: 4889, dtype: int64"
      ]
     },
     "execution_count": 11,
     "metadata": {},
     "output_type": "execute_result"
    }
   ],
   "source": [
    "mta.turnstile_id.value_counts()"
   ]
  },
  {
   "cell_type": "markdown",
   "metadata": {},
   "source": [
    "Different number of counts per turnstile. Might need more digging."
   ]
  },
  {
   "cell_type": "code",
   "execution_count": 12,
   "metadata": {},
   "outputs": [
    {
     "data": {
      "text/html": [
       "<div>\n",
       "<style scoped>\n",
       "    .dataframe tbody tr th:only-of-type {\n",
       "        vertical-align: middle;\n",
       "    }\n",
       "\n",
       "    .dataframe tbody tr th {\n",
       "        vertical-align: top;\n",
       "    }\n",
       "\n",
       "    .dataframe thead th {\n",
       "        text-align: right;\n",
       "    }\n",
       "</style>\n",
       "<table border=\"1\" class=\"dataframe\">\n",
       "  <thead>\n",
       "    <tr style=\"text-align: right;\">\n",
       "      <th></th>\n",
       "      <th>c_a</th>\n",
       "      <th>unit</th>\n",
       "      <th>scp</th>\n",
       "      <th>station</th>\n",
       "      <th>linename</th>\n",
       "      <th>devision</th>\n",
       "      <th>date</th>\n",
       "      <th>time</th>\n",
       "      <th>desc</th>\n",
       "      <th>entries</th>\n",
       "      <th>exits</th>\n",
       "      <th>turnstile_id</th>\n",
       "      <th>Datetime</th>\n",
       "      <th>Date</th>\n",
       "    </tr>\n",
       "  </thead>\n",
       "  <tbody>\n",
       "    <tr>\n",
       "      <td>0</td>\n",
       "      <td>A002</td>\n",
       "      <td>R051</td>\n",
       "      <td>02-00-00</td>\n",
       "      <td>59 ST</td>\n",
       "      <td>NQR456W</td>\n",
       "      <td>BMT</td>\n",
       "      <td>09/14/2019</td>\n",
       "      <td>00:00:00</td>\n",
       "      <td>REGULAR</td>\n",
       "      <td>7198818</td>\n",
       "      <td>2438323</td>\n",
       "      <td>A002, R051, 02-00-00, 59 ST</td>\n",
       "      <td>2019-09-14 00:00:00</td>\n",
       "      <td>2019-09-14</td>\n",
       "    </tr>\n",
       "    <tr>\n",
       "      <td>1</td>\n",
       "      <td>A002</td>\n",
       "      <td>R051</td>\n",
       "      <td>02-00-00</td>\n",
       "      <td>59 ST</td>\n",
       "      <td>NQR456W</td>\n",
       "      <td>BMT</td>\n",
       "      <td>09/14/2019</td>\n",
       "      <td>04:00:00</td>\n",
       "      <td>REGULAR</td>\n",
       "      <td>7198834</td>\n",
       "      <td>2438325</td>\n",
       "      <td>A002, R051, 02-00-00, 59 ST</td>\n",
       "      <td>2019-09-14 04:00:00</td>\n",
       "      <td>2019-09-14</td>\n",
       "    </tr>\n",
       "    <tr>\n",
       "      <td>2</td>\n",
       "      <td>A002</td>\n",
       "      <td>R051</td>\n",
       "      <td>02-00-00</td>\n",
       "      <td>59 ST</td>\n",
       "      <td>NQR456W</td>\n",
       "      <td>BMT</td>\n",
       "      <td>09/14/2019</td>\n",
       "      <td>08:00:00</td>\n",
       "      <td>REGULAR</td>\n",
       "      <td>7198847</td>\n",
       "      <td>2438354</td>\n",
       "      <td>A002, R051, 02-00-00, 59 ST</td>\n",
       "      <td>2019-09-14 08:00:00</td>\n",
       "      <td>2019-09-14</td>\n",
       "    </tr>\n",
       "    <tr>\n",
       "      <td>3</td>\n",
       "      <td>A002</td>\n",
       "      <td>R051</td>\n",
       "      <td>02-00-00</td>\n",
       "      <td>59 ST</td>\n",
       "      <td>NQR456W</td>\n",
       "      <td>BMT</td>\n",
       "      <td>09/14/2019</td>\n",
       "      <td>12:00:00</td>\n",
       "      <td>REGULAR</td>\n",
       "      <td>7198929</td>\n",
       "      <td>2438428</td>\n",
       "      <td>A002, R051, 02-00-00, 59 ST</td>\n",
       "      <td>2019-09-14 12:00:00</td>\n",
       "      <td>2019-09-14</td>\n",
       "    </tr>\n",
       "    <tr>\n",
       "      <td>4</td>\n",
       "      <td>A002</td>\n",
       "      <td>R051</td>\n",
       "      <td>02-00-00</td>\n",
       "      <td>59 ST</td>\n",
       "      <td>NQR456W</td>\n",
       "      <td>BMT</td>\n",
       "      <td>09/14/2019</td>\n",
       "      <td>16:00:00</td>\n",
       "      <td>REGULAR</td>\n",
       "      <td>7199125</td>\n",
       "      <td>2438483</td>\n",
       "      <td>A002, R051, 02-00-00, 59 ST</td>\n",
       "      <td>2019-09-14 16:00:00</td>\n",
       "      <td>2019-09-14</td>\n",
       "    </tr>\n",
       "  </tbody>\n",
       "</table>\n",
       "</div>"
      ],
      "text/plain": [
       "    c_a  unit       scp station linename devision        date      time  \\\n",
       "0  A002  R051  02-00-00   59 ST  NQR456W      BMT  09/14/2019  00:00:00   \n",
       "1  A002  R051  02-00-00   59 ST  NQR456W      BMT  09/14/2019  04:00:00   \n",
       "2  A002  R051  02-00-00   59 ST  NQR456W      BMT  09/14/2019  08:00:00   \n",
       "3  A002  R051  02-00-00   59 ST  NQR456W      BMT  09/14/2019  12:00:00   \n",
       "4  A002  R051  02-00-00   59 ST  NQR456W      BMT  09/14/2019  16:00:00   \n",
       "\n",
       "      desc  entries    exits                 turnstile_id            Datetime  \\\n",
       "0  REGULAR  7198818  2438323  A002, R051, 02-00-00, 59 ST 2019-09-14 00:00:00   \n",
       "1  REGULAR  7198834  2438325  A002, R051, 02-00-00, 59 ST 2019-09-14 04:00:00   \n",
       "2  REGULAR  7198847  2438354  A002, R051, 02-00-00, 59 ST 2019-09-14 08:00:00   \n",
       "3  REGULAR  7198929  2438428  A002, R051, 02-00-00, 59 ST 2019-09-14 12:00:00   \n",
       "4  REGULAR  7199125  2438483  A002, R051, 02-00-00, 59 ST 2019-09-14 16:00:00   \n",
       "\n",
       "        Date  \n",
       "0 2019-09-14  \n",
       "1 2019-09-14  \n",
       "2 2019-09-14  \n",
       "3 2019-09-14  \n",
       "4 2019-09-14  "
      ]
     },
     "execution_count": 12,
     "metadata": {},
     "output_type": "execute_result"
    }
   ],
   "source": [
    "# Add datetime and date variables\n",
    "mta['Datetime'] = pd.to_datetime(mta['date'] + ' ' + mta['time'])\n",
    "mta['Date'] = pd.to_datetime(mta['date'])\n",
    "mta.head()"
   ]
  },
  {
   "cell_type": "code",
   "execution_count": 13,
   "metadata": {},
   "outputs": [
    {
     "data": {
      "text/plain": [
       "(204928, 14)"
      ]
     },
     "execution_count": 13,
     "metadata": {},
     "output_type": "execute_result"
    }
   ],
   "source": [
    "mta.shape"
   ]
  },
  {
   "cell_type": "code",
   "execution_count": 37,
   "metadata": {},
   "outputs": [
    {
     "data": {
      "text/html": [
       "<div>\n",
       "<style scoped>\n",
       "    .dataframe tbody tr th:only-of-type {\n",
       "        vertical-align: middle;\n",
       "    }\n",
       "\n",
       "    .dataframe tbody tr th {\n",
       "        vertical-align: top;\n",
       "    }\n",
       "\n",
       "    .dataframe thead th {\n",
       "        text-align: right;\n",
       "    }\n",
       "</style>\n",
       "<table border=\"1\" class=\"dataframe\">\n",
       "  <thead>\n",
       "    <tr style=\"text-align: right;\">\n",
       "      <th></th>\n",
       "      <th>turnstile_id</th>\n",
       "      <th>Date</th>\n",
       "      <th>entries</th>\n",
       "      <th>station</th>\n",
       "    </tr>\n",
       "  </thead>\n",
       "  <tbody>\n",
       "    <tr>\n",
       "      <td>1771</td>\n",
       "      <td>A058, R001, 01-00-03, WHITEHALL S-FRY</td>\n",
       "      <td>2019-09-20</td>\n",
       "      <td>135331032</td>\n",
       "      <td>WHITEHALL S-FRY</td>\n",
       "    </tr>\n",
       "    <tr>\n",
       "      <td>9196</td>\n",
       "      <td>N073, R013, 02-00-04, 34 ST-PENN STA</td>\n",
       "      <td>2019-09-18</td>\n",
       "      <td>1879471</td>\n",
       "      <td>34 ST-PENN STA</td>\n",
       "    </tr>\n",
       "    <tr>\n",
       "      <td>30686</td>\n",
       "      <td>R512, R092, 00-00-02, BROADWAY</td>\n",
       "      <td>2019-09-19</td>\n",
       "      <td>1439607</td>\n",
       "      <td>BROADWAY</td>\n",
       "    </tr>\n",
       "    <tr>\n",
       "      <td>22518</td>\n",
       "      <td>R130, R321, 01-00-00, 18 ST</td>\n",
       "      <td>2019-09-20</td>\n",
       "      <td>151474</td>\n",
       "      <td>18 ST</td>\n",
       "    </tr>\n",
       "    <tr>\n",
       "      <td>16892</td>\n",
       "      <td>N521, R300, 01-06-00, 2 AV</td>\n",
       "      <td>2019-09-15</td>\n",
       "      <td>2193934</td>\n",
       "      <td>2 AV</td>\n",
       "    </tr>\n",
       "    <tr>\n",
       "      <td>20282</td>\n",
       "      <td>PTH13, R541, 00-04-07, THIRTY ST</td>\n",
       "      <td>2019-09-16</td>\n",
       "      <td>1</td>\n",
       "      <td>THIRTY ST</td>\n",
       "    </tr>\n",
       "    <tr>\n",
       "      <td>15327</td>\n",
       "      <td>N408A, R256, 00-03-01, NASSAU AV</td>\n",
       "      <td>2019-09-18</td>\n",
       "      <td>64319</td>\n",
       "      <td>NASSAU AV</td>\n",
       "    </tr>\n",
       "    <tr>\n",
       "      <td>4395</td>\n",
       "      <td>D010, R394, 00-00-03, BAY PKWY</td>\n",
       "      <td>2019-09-19</td>\n",
       "      <td>574731</td>\n",
       "      <td>BAY PKWY</td>\n",
       "    </tr>\n",
       "    <tr>\n",
       "      <td>12536</td>\n",
       "      <td>N220, R155, 01-00-04, KINGSBRIDGE RD</td>\n",
       "      <td>2019-09-19</td>\n",
       "      <td>352398661</td>\n",
       "      <td>KINGSBRIDGE RD</td>\n",
       "    </tr>\n",
       "    <tr>\n",
       "      <td>22363</td>\n",
       "      <td>R125, R189, 00-00-02, CHRISTOPHER ST</td>\n",
       "      <td>2019-09-19</td>\n",
       "      <td>16597343</td>\n",
       "      <td>CHRISTOPHER ST</td>\n",
       "    </tr>\n",
       "  </tbody>\n",
       "</table>\n",
       "</div>"
      ],
      "text/plain": [
       "                                turnstile_id       Date    entries  \\\n",
       "1771   A058, R001, 01-00-03, WHITEHALL S-FRY 2019-09-20  135331032   \n",
       "9196    N073, R013, 02-00-04, 34 ST-PENN STA 2019-09-18    1879471   \n",
       "30686         R512, R092, 00-00-02, BROADWAY 2019-09-19    1439607   \n",
       "22518            R130, R321, 01-00-00, 18 ST 2019-09-20     151474   \n",
       "16892             N521, R300, 01-06-00, 2 AV 2019-09-15    2193934   \n",
       "20282       PTH13, R541, 00-04-07, THIRTY ST 2019-09-16          1   \n",
       "15327       N408A, R256, 00-03-01, NASSAU AV 2019-09-18      64319   \n",
       "4395          D010, R394, 00-00-03, BAY PKWY 2019-09-19     574731   \n",
       "12536   N220, R155, 01-00-04, KINGSBRIDGE RD 2019-09-19  352398661   \n",
       "22363   R125, R189, 00-00-02, CHRISTOPHER ST 2019-09-19   16597343   \n",
       "\n",
       "               station  \n",
       "1771   WHITEHALL S-FRY  \n",
       "9196    34 ST-PENN STA  \n",
       "30686         BROADWAY  \n",
       "22518            18 ST  \n",
       "16892             2 AV  \n",
       "20282        THIRTY ST  \n",
       "15327        NASSAU AV  \n",
       "4395          BAY PKWY  \n",
       "12536   KINGSBRIDGE RD  \n",
       "22363   CHRISTOPHER ST  "
      ]
     },
     "execution_count": 37,
     "metadata": {},
     "output_type": "execute_result"
    }
   ],
   "source": [
    "# Get minimum reading for each turnstile per day\n",
    "mta_min = mta.groupby(['turnstile_id', 'Date'])['entries', 'station'].min().reset_index() #making df with both indexes\n",
    "mta_min.sample(10)"
   ]
  },
  {
   "cell_type": "code",
   "execution_count": 15,
   "metadata": {},
   "outputs": [
    {
     "data": {
      "text/plain": [
       "(34174, 3)"
      ]
     },
     "execution_count": 15,
     "metadata": {},
     "output_type": "execute_result"
    }
   ],
   "source": [
    "mta_min.shape"
   ]
  },
  {
   "cell_type": "code",
   "execution_count": 16,
   "metadata": {},
   "outputs": [],
   "source": [
    "# Calculating entries per day by subtracting min entries for given day from the next day. \n",
    "# Last day values are not calculated due to \"the lack of the next day\".\n",
    "mta_daily = mta_min\n",
    "mta_daily['entries_daily'] = mta_min.groupby(['turnstile_id'])['entries'].diff()"
   ]
  },
  {
   "cell_type": "code",
   "execution_count": 17,
   "metadata": {},
   "outputs": [
    {
     "data": {
      "text/html": [
       "<div>\n",
       "<style scoped>\n",
       "    .dataframe tbody tr th:only-of-type {\n",
       "        vertical-align: middle;\n",
       "    }\n",
       "\n",
       "    .dataframe tbody tr th {\n",
       "        vertical-align: top;\n",
       "    }\n",
       "\n",
       "    .dataframe thead th {\n",
       "        text-align: right;\n",
       "    }\n",
       "</style>\n",
       "<table border=\"1\" class=\"dataframe\">\n",
       "  <thead>\n",
       "    <tr style=\"text-align: right;\">\n",
       "      <th></th>\n",
       "      <th>turnstile_id</th>\n",
       "      <th>Date</th>\n",
       "      <th>entries</th>\n",
       "      <th>entries_daily</th>\n",
       "    </tr>\n",
       "  </thead>\n",
       "  <tbody>\n",
       "    <tr>\n",
       "      <td>0</td>\n",
       "      <td>A002, R051, 02-00-00, 59 ST</td>\n",
       "      <td>2019-09-14</td>\n",
       "      <td>7198818</td>\n",
       "      <td>NaN</td>\n",
       "    </tr>\n",
       "    <tr>\n",
       "      <td>1</td>\n",
       "      <td>A002, R051, 02-00-00, 59 ST</td>\n",
       "      <td>2019-09-15</td>\n",
       "      <td>7199547</td>\n",
       "      <td>729.0</td>\n",
       "    </tr>\n",
       "    <tr>\n",
       "      <td>2</td>\n",
       "      <td>A002, R051, 02-00-00, 59 ST</td>\n",
       "      <td>2019-09-16</td>\n",
       "      <td>7200082</td>\n",
       "      <td>535.0</td>\n",
       "    </tr>\n",
       "    <tr>\n",
       "      <td>3</td>\n",
       "      <td>A002, R051, 02-00-00, 59 ST</td>\n",
       "      <td>2019-09-17</td>\n",
       "      <td>7201361</td>\n",
       "      <td>1279.0</td>\n",
       "    </tr>\n",
       "    <tr>\n",
       "      <td>4</td>\n",
       "      <td>A002, R051, 02-00-00, 59 ST</td>\n",
       "      <td>2019-09-18</td>\n",
       "      <td>7202723</td>\n",
       "      <td>1362.0</td>\n",
       "    </tr>\n",
       "  </tbody>\n",
       "</table>\n",
       "</div>"
      ],
      "text/plain": [
       "                  turnstile_id       Date  entries  entries_daily\n",
       "0  A002, R051, 02-00-00, 59 ST 2019-09-14  7198818            NaN\n",
       "1  A002, R051, 02-00-00, 59 ST 2019-09-15  7199547          729.0\n",
       "2  A002, R051, 02-00-00, 59 ST 2019-09-16  7200082          535.0\n",
       "3  A002, R051, 02-00-00, 59 ST 2019-09-17  7201361         1279.0\n",
       "4  A002, R051, 02-00-00, 59 ST 2019-09-18  7202723         1362.0"
      ]
     },
     "execution_count": 17,
     "metadata": {},
     "output_type": "execute_result"
    }
   ],
   "source": [
    "mta_daily.head()"
   ]
  },
  {
   "cell_type": "code",
   "execution_count": 18,
   "metadata": {},
   "outputs": [
    {
     "data": {
      "text/plain": [
       "(34174, 4)"
      ]
     },
     "execution_count": 18,
     "metadata": {},
     "output_type": "execute_result"
    }
   ],
   "source": [
    "mta_daily.shape"
   ]
  },
  {
   "cell_type": "code",
   "execution_count": 19,
   "metadata": {},
   "outputs": [],
   "source": [
    "# Fixing the `entries_daily`. Shifting up one row\n",
    "mta_daily['entries_daily'] = mta_daily['entries_daily'].shift(-1)"
   ]
  },
  {
   "cell_type": "code",
   "execution_count": 20,
   "metadata": {
    "scrolled": true
   },
   "outputs": [
    {
     "data": {
      "text/plain": [
       "(34174, 4)"
      ]
     },
     "execution_count": 20,
     "metadata": {},
     "output_type": "execute_result"
    }
   ],
   "source": [
    "mta_daily.head()\n",
    "mta_daily.shape"
   ]
  },
  {
   "cell_type": "code",
   "execution_count": 21,
   "metadata": {},
   "outputs": [
    {
     "name": "stdout",
     "output_type": "stream",
     "text": [
      "<class 'pandas.core.frame.DataFrame'>\n",
      "RangeIndex: 34174 entries, 0 to 34173\n",
      "Data columns (total 4 columns):\n",
      "turnstile_id     34174 non-null object\n",
      "Date             34174 non-null datetime64[ns]\n",
      "entries          34174 non-null int64\n",
      "entries_daily    29285 non-null float64\n",
      "dtypes: datetime64[ns](1), float64(1), int64(1), object(1)\n",
      "memory usage: 1.0+ MB\n"
     ]
    }
   ],
   "source": [
    "mta_daily.info()"
   ]
  },
  {
   "cell_type": "code",
   "execution_count": 22,
   "metadata": {},
   "outputs": [
    {
     "data": {
      "text/plain": [
       "<matplotlib.axes._subplots.AxesSubplot at 0x1a23dc3310>"
      ]
     },
     "execution_count": 22,
     "metadata": {},
     "output_type": "execute_result"
    },
    {
     "data": {
      "image/png": "[encoded data removed]",
      "text/plain": [
       "<Figure size 432x288 with 1 Axes>"
      ]
     },
     "metadata": {
      "needs_background": "light"
     },
     "output_type": "display_data"
    }
   ],
   "source": [
    " mta_daily.entries_daily.plot()"
   ]
  },
  {
   "cell_type": "code",
   "execution_count": 23,
   "metadata": {},
   "outputs": [
    {
     "data": {
      "text/plain": [
       "100259186.0"
      ]
     },
     "execution_count": 23,
     "metadata": {},
     "output_type": "execute_result"
    }
   ],
   "source": [
    "# MTA daily number of passenger per station per day can't be more than ~500,000. \n",
    "# Note, we are looking at individual turnstiles, not stations yet.\n",
    "mta_daily.entries_daily.max()"
   ]
  },
  {
   "cell_type": "code",
   "execution_count": 24,
   "metadata": {},
   "outputs": [
    {
     "data": {
      "text/html": [
       "<div>\n",
       "<style scoped>\n",
       "    .dataframe tbody tr th:only-of-type {\n",
       "        vertical-align: middle;\n",
       "    }\n",
       "\n",
       "    .dataframe tbody tr th {\n",
       "        vertical-align: top;\n",
       "    }\n",
       "\n",
       "    .dataframe thead th {\n",
       "        text-align: right;\n",
       "    }\n",
       "</style>\n",
       "<table border=\"1\" class=\"dataframe\">\n",
       "  <thead>\n",
       "    <tr style=\"text-align: right;\">\n",
       "      <th></th>\n",
       "      <th>turnstile_id</th>\n",
       "      <th>Date</th>\n",
       "      <th>entries</th>\n",
       "      <th>entries_daily</th>\n",
       "    </tr>\n",
       "  </thead>\n",
       "  <tbody>\n",
       "    <tr>\n",
       "      <td>4423</td>\n",
       "      <td>D011, R394, 01-06-01, BAY PKWY</td>\n",
       "      <td>2019-09-19</td>\n",
       "      <td>775219651</td>\n",
       "      <td>100259186.0</td>\n",
       "    </tr>\n",
       "    <tr>\n",
       "      <td>21940</td>\n",
       "      <td>R113, R028, 01-06-00, FULTON ST</td>\n",
       "      <td>2019-09-16</td>\n",
       "      <td>3900</td>\n",
       "      <td>1503450.0</td>\n",
       "    </tr>\n",
       "    <tr>\n",
       "      <td>24895</td>\n",
       "      <td>R200A, R041, 01-05-01, BOWLING GREEN</td>\n",
       "      <td>2019-09-17</td>\n",
       "      <td>14</td>\n",
       "      <td>524274.0</td>\n",
       "    </tr>\n",
       "    <tr>\n",
       "      <td>28204</td>\n",
       "      <td>R289, R119, 00-03-01, FORDHAM RD</td>\n",
       "      <td>2019-09-18</td>\n",
       "      <td>187873</td>\n",
       "      <td>33413588.0</td>\n",
       "    </tr>\n",
       "  </tbody>\n",
       "</table>\n",
       "</div>"
      ],
      "text/plain": [
       "                               turnstile_id       Date    entries  \\\n",
       "4423         D011, R394, 01-06-01, BAY PKWY 2019-09-19  775219651   \n",
       "21940       R113, R028, 01-06-00, FULTON ST 2019-09-16       3900   \n",
       "24895  R200A, R041, 01-05-01, BOWLING GREEN 2019-09-17         14   \n",
       "28204      R289, R119, 00-03-01, FORDHAM RD 2019-09-18     187873   \n",
       "\n",
       "       entries_daily  \n",
       "4423     100259186.0  \n",
       "21940      1503450.0  \n",
       "24895       524274.0  \n",
       "28204     33413588.0  "
      ]
     },
     "execution_count": 24,
     "metadata": {},
     "output_type": "execute_result"
    }
   ],
   "source": [
    "mta_daily.loc[mta_daily['entries_daily']>=500000]"
   ]
  },
  {
   "cell_type": "code",
   "execution_count": 28,
   "metadata": {},
   "outputs": [
    {
     "data": {
      "text/html": [
       "<div>\n",
       "<style scoped>\n",
       "    .dataframe tbody tr th:only-of-type {\n",
       "        vertical-align: middle;\n",
       "    }\n",
       "\n",
       "    .dataframe tbody tr th {\n",
       "        vertical-align: top;\n",
       "    }\n",
       "\n",
       "    .dataframe thead th {\n",
       "        text-align: right;\n",
       "    }\n",
       "</style>\n",
       "<table border=\"1\" class=\"dataframe\">\n",
       "  <thead>\n",
       "    <tr style=\"text-align: right;\">\n",
       "      <th></th>\n",
       "      <th>turnstile_id</th>\n",
       "      <th>Date</th>\n",
       "      <th>entries</th>\n",
       "      <th>entries_daily</th>\n",
       "    </tr>\n",
       "  </thead>\n",
       "  <tbody>\n",
       "    <tr>\n",
       "      <td>267</td>\n",
       "      <td>A011, R080, 01-03-00, 57 ST-7 AV</td>\n",
       "      <td>2019-09-14</td>\n",
       "      <td>885813143</td>\n",
       "      <td>-401.0</td>\n",
       "    </tr>\n",
       "    <tr>\n",
       "      <td>268</td>\n",
       "      <td>A011, R080, 01-03-00, 57 ST-7 AV</td>\n",
       "      <td>2019-09-15</td>\n",
       "      <td>885812742</td>\n",
       "      <td>-296.0</td>\n",
       "    </tr>\n",
       "    <tr>\n",
       "      <td>269</td>\n",
       "      <td>A011, R080, 01-03-00, 57 ST-7 AV</td>\n",
       "      <td>2019-09-16</td>\n",
       "      <td>885812446</td>\n",
       "      <td>-217.0</td>\n",
       "    </tr>\n",
       "    <tr>\n",
       "      <td>270</td>\n",
       "      <td>A011, R080, 01-03-00, 57 ST-7 AV</td>\n",
       "      <td>2019-09-17</td>\n",
       "      <td>885812229</td>\n",
       "      <td>-299.0</td>\n",
       "    </tr>\n",
       "    <tr>\n",
       "      <td>271</td>\n",
       "      <td>A011, R080, 01-03-00, 57 ST-7 AV</td>\n",
       "      <td>2019-09-18</td>\n",
       "      <td>885811930</td>\n",
       "      <td>-317.0</td>\n",
       "    </tr>\n",
       "    <tr>\n",
       "      <td>...</td>\n",
       "      <td>...</td>\n",
       "      <td>...</td>\n",
       "      <td>...</td>\n",
       "      <td>...</td>\n",
       "    </tr>\n",
       "    <tr>\n",
       "      <td>33868</td>\n",
       "      <td>R730, R431, 00-00-04, EASTCHSTER/DYRE</td>\n",
       "      <td>2019-09-16</td>\n",
       "      <td>1559932613</td>\n",
       "      <td>-615.0</td>\n",
       "    </tr>\n",
       "    <tr>\n",
       "      <td>33869</td>\n",
       "      <td>R730, R431, 00-00-04, EASTCHSTER/DYRE</td>\n",
       "      <td>2019-09-17</td>\n",
       "      <td>1559931998</td>\n",
       "      <td>-622.0</td>\n",
       "    </tr>\n",
       "    <tr>\n",
       "      <td>33870</td>\n",
       "      <td>R730, R431, 00-00-04, EASTCHSTER/DYRE</td>\n",
       "      <td>2019-09-18</td>\n",
       "      <td>1559931376</td>\n",
       "      <td>-626.0</td>\n",
       "    </tr>\n",
       "    <tr>\n",
       "      <td>33871</td>\n",
       "      <td>R730, R431, 00-00-04, EASTCHSTER/DYRE</td>\n",
       "      <td>2019-09-19</td>\n",
       "      <td>1559930750</td>\n",
       "      <td>-543.0</td>\n",
       "    </tr>\n",
       "    <tr>\n",
       "      <td>34115</td>\n",
       "      <td>TRAM1, R468, 00-00-01, RIT-MANHATTAN</td>\n",
       "      <td>2019-09-18</td>\n",
       "      <td>490455</td>\n",
       "      <td>-490370.0</td>\n",
       "    </tr>\n",
       "  </tbody>\n",
       "</table>\n",
       "<p>293 rows × 4 columns</p>\n",
       "</div>"
      ],
      "text/plain": [
       "                                turnstile_id       Date     entries  \\\n",
       "267         A011, R080, 01-03-00, 57 ST-7 AV 2019-09-14   885813143   \n",
       "268         A011, R080, 01-03-00, 57 ST-7 AV 2019-09-15   885812742   \n",
       "269         A011, R080, 01-03-00, 57 ST-7 AV 2019-09-16   885812446   \n",
       "270         A011, R080, 01-03-00, 57 ST-7 AV 2019-09-17   885812229   \n",
       "271         A011, R080, 01-03-00, 57 ST-7 AV 2019-09-18   885811930   \n",
       "...                                      ...        ...         ...   \n",
       "33868  R730, R431, 00-00-04, EASTCHSTER/DYRE 2019-09-16  1559932613   \n",
       "33869  R730, R431, 00-00-04, EASTCHSTER/DYRE 2019-09-17  1559931998   \n",
       "33870  R730, R431, 00-00-04, EASTCHSTER/DYRE 2019-09-18  1559931376   \n",
       "33871  R730, R431, 00-00-04, EASTCHSTER/DYRE 2019-09-19  1559930750   \n",
       "34115   TRAM1, R468, 00-00-01, RIT-MANHATTAN 2019-09-18      490455   \n",
       "\n",
       "       entries_daily  \n",
       "267           -401.0  \n",
       "268           -296.0  \n",
       "269           -217.0  \n",
       "270           -299.0  \n",
       "271           -317.0  \n",
       "...              ...  \n",
       "33868         -615.0  \n",
       "33869         -622.0  \n",
       "33870         -626.0  \n",
       "33871         -543.0  \n",
       "34115      -490370.0  \n",
       "\n",
       "[293 rows x 4 columns]"
      ]
     },
     "execution_count": 28,
     "metadata": {},
     "output_type": "execute_result"
    }
   ],
   "source": [
    "mta_daily.loc[mta_daily['entries_daily']<0] # Count should not go down next day and so on - inconsistency - remove."
   ]
  },
  {
   "cell_type": "code",
   "execution_count": 32,
   "metadata": {},
   "outputs": [],
   "source": [
    "# Remove the daily enatries that do not make sence (> 500,000)\n",
    "mta_daily.loc[mta_daily['entries_daily'] >= 500000,'entries_daily'] = np.nan\n",
    "mta_daily.loc[mta_daily['entries_daily'] < 0,'entries_daily'] = np.nan"
   ]
  },
  {
   "cell_type": "code",
   "execution_count": 33,
   "metadata": {},
   "outputs": [
    {
     "data": {
      "text/plain": [
       "(34174, 4)"
      ]
     },
     "execution_count": 33,
     "metadata": {},
     "output_type": "execute_result"
    }
   ],
   "source": [
    "mta_daily.shape"
   ]
  },
  {
   "cell_type": "code",
   "execution_count": 34,
   "metadata": {},
   "outputs": [
    {
     "data": {
      "text/plain": [
       "<matplotlib.axes._subplots.AxesSubplot at 0x1a23f43b50>"
      ]
     },
     "execution_count": 34,
     "metadata": {},
     "output_type": "execute_result"
    },
    {
     "data": {
      "image/png": "[encoded data removed]",
      "text/plain": [
       "<Figure size 432x288 with 1 Axes>"
      ]
     },
     "metadata": {
      "needs_background": "light"
     },
     "output_type": "display_data"
    }
   ],
   "source": [
    "mta_daily.entries_daily.plot()"
   ]
  },
  {
   "cell_type": "code",
   "execution_count": 38,
   "metadata": {},
   "outputs": [
    {
     "data": {
      "text/plain": [
       "(34174, 4)"
      ]
     },
     "execution_count": 38,
     "metadata": {},
     "output_type": "execute_result"
    }
   ],
   "source": [
    "mta_daily.shape"
   ]
  },
  {
   "cell_type": "code",
   "execution_count": null,
   "metadata": {},
   "outputs": [],
   "source": [
    "# Daily entries by stations\n",
    "station_daily = mta_daily.groupby(['station', 'Date'])['entries_daily'].sum().reset_index()"
   ]
  },
  {
   "cell_type": "code",
   "execution_count": null,
   "metadata": {},
   "outputs": [],
   "source": [
    "station_daily"
   ]
  },
  {
   "cell_type": "code",
   "execution_count": 40,
   "metadata": {},
   "outputs": [
    {
     "ename": "KeyError",
     "evalue": "'station'",
     "output_type": "error",
     "traceback": [
      "\u001b[0;31m---------------------------------------------------------------------------\u001b[0m",
      "\u001b[0;31mKeyError\u001b[0m                                  Traceback (most recent call last)",
      "\u001b[0;32m<ipython-input-40-603b4da4f586>\u001b[0m in \u001b[0;36m<module>\u001b[0;34m\u001b[0m\n\u001b[1;32m      1\u001b[0m \u001b[0;31m# Sum of entries by stations for a week (6 days due to solutuon limitation)\u001b[0m\u001b[0;34m\u001b[0m\u001b[0;34m\u001b[0m\u001b[0;34m\u001b[0m\u001b[0m\n\u001b[0;32m----> 2\u001b[0;31m \u001b[0mstation_weekly\u001b[0m \u001b[0;34m=\u001b[0m \u001b[0mmta_daily\u001b[0m\u001b[0;34m.\u001b[0m\u001b[0mgroupby\u001b[0m\u001b[0;34m(\u001b[0m\u001b[0;34m[\u001b[0m\u001b[0;34m'station'\u001b[0m\u001b[0;34m]\u001b[0m\u001b[0;34m)\u001b[0m\u001b[0;34m[\u001b[0m\u001b[0;34m'entries_daily'\u001b[0m\u001b[0;34m]\u001b[0m\u001b[0;34m.\u001b[0m\u001b[0msum\u001b[0m\u001b[0;34m(\u001b[0m\u001b[0;34m)\u001b[0m\u001b[0;34m.\u001b[0m\u001b[0mreset_index\u001b[0m\u001b[0;34m(\u001b[0m\u001b[0;34m)\u001b[0m\u001b[0;34m\u001b[0m\u001b[0;34m\u001b[0m\u001b[0m\n\u001b[0m",
      "\u001b[0;32m~/anaconda3/envs/metis/lib/python3.7/site-packages/pandas/core/generic.py\u001b[0m in \u001b[0;36mgroupby\u001b[0;34m(self, by, axis, level, as_index, sort, group_keys, squeeze, observed, **kwargs)\u001b[0m\n\u001b[1;32m   7892\u001b[0m             \u001b[0msqueeze\u001b[0m\u001b[0;34m=\u001b[0m\u001b[0msqueeze\u001b[0m\u001b[0;34m,\u001b[0m\u001b[0;34m\u001b[0m\u001b[0;34m\u001b[0m\u001b[0m\n\u001b[1;32m   7893\u001b[0m             \u001b[0mobserved\u001b[0m\u001b[0;34m=\u001b[0m\u001b[0mobserved\u001b[0m\u001b[0;34m,\u001b[0m\u001b[0;34m\u001b[0m\u001b[0;34m\u001b[0m\u001b[0m\n\u001b[0;32m-> 7894\u001b[0;31m             \u001b[0;34m**\u001b[0m\u001b[0mkwargs\u001b[0m\u001b[0;34m\u001b[0m\u001b[0;34m\u001b[0m\u001b[0m\n\u001b[0m\u001b[1;32m   7895\u001b[0m         )\n\u001b[1;32m   7896\u001b[0m \u001b[0;34m\u001b[0m\u001b[0m\n",
      "\u001b[0;32m~/anaconda3/envs/metis/lib/python3.7/site-packages/pandas/core/groupby/groupby.py\u001b[0m in \u001b[0;36mgroupby\u001b[0;34m(obj, by, **kwds)\u001b[0m\n\u001b[1;32m   2520\u001b[0m         \u001b[0;32mraise\u001b[0m \u001b[0mTypeError\u001b[0m\u001b[0;34m(\u001b[0m\u001b[0;34m\"invalid type: {}\"\u001b[0m\u001b[0;34m.\u001b[0m\u001b[0mformat\u001b[0m\u001b[0;34m(\u001b[0m\u001b[0mobj\u001b[0m\u001b[0;34m)\u001b[0m\u001b[0;34m)\u001b[0m\u001b[0;34m\u001b[0m\u001b[0;34m\u001b[0m\u001b[0m\n\u001b[1;32m   2521\u001b[0m \u001b[0;34m\u001b[0m\u001b[0m\n\u001b[0;32m-> 2522\u001b[0;31m     \u001b[0;32mreturn\u001b[0m \u001b[0mklass\u001b[0m\u001b[0;34m(\u001b[0m\u001b[0mobj\u001b[0m\u001b[0;34m,\u001b[0m \u001b[0mby\u001b[0m\u001b[0;34m,\u001b[0m \u001b[0;34m**\u001b[0m\u001b[0mkwds\u001b[0m\u001b[0;34m)\u001b[0m\u001b[0;34m\u001b[0m\u001b[0;34m\u001b[0m\u001b[0m\n\u001b[0m",
      "\u001b[0;32m~/anaconda3/envs/metis/lib/python3.7/site-packages/pandas/core/groupby/groupby.py\u001b[0m in \u001b[0;36m__init__\u001b[0;34m(self, obj, keys, axis, level, grouper, exclusions, selection, as_index, sort, group_keys, squeeze, observed, **kwargs)\u001b[0m\n\u001b[1;32m    389\u001b[0m                 \u001b[0msort\u001b[0m\u001b[0;34m=\u001b[0m\u001b[0msort\u001b[0m\u001b[0;34m,\u001b[0m\u001b[0;34m\u001b[0m\u001b[0;34m\u001b[0m\u001b[0m\n\u001b[1;32m    390\u001b[0m                 \u001b[0mobserved\u001b[0m\u001b[0;34m=\u001b[0m\u001b[0mobserved\u001b[0m\u001b[0;34m,\u001b[0m\u001b[0;34m\u001b[0m\u001b[0;34m\u001b[0m\u001b[0m\n\u001b[0;32m--> 391\u001b[0;31m                 \u001b[0mmutated\u001b[0m\u001b[0;34m=\u001b[0m\u001b[0mself\u001b[0m\u001b[0;34m.\u001b[0m\u001b[0mmutated\u001b[0m\u001b[0;34m,\u001b[0m\u001b[0;34m\u001b[0m\u001b[0;34m\u001b[0m\u001b[0m\n\u001b[0m\u001b[1;32m    392\u001b[0m             )\n\u001b[1;32m    393\u001b[0m \u001b[0;34m\u001b[0m\u001b[0m\n",
      "\u001b[0;32m~/anaconda3/envs/metis/lib/python3.7/site-packages/pandas/core/groupby/grouper.py\u001b[0m in \u001b[0;36m_get_grouper\u001b[0;34m(obj, key, axis, level, sort, observed, mutated, validate)\u001b[0m\n\u001b[1;32m    619\u001b[0m                 \u001b[0min_axis\u001b[0m\u001b[0;34m,\u001b[0m \u001b[0mname\u001b[0m\u001b[0;34m,\u001b[0m \u001b[0mlevel\u001b[0m\u001b[0;34m,\u001b[0m \u001b[0mgpr\u001b[0m \u001b[0;34m=\u001b[0m \u001b[0;32mFalse\u001b[0m\u001b[0;34m,\u001b[0m \u001b[0;32mNone\u001b[0m\u001b[0;34m,\u001b[0m \u001b[0mgpr\u001b[0m\u001b[0;34m,\u001b[0m \u001b[0;32mNone\u001b[0m\u001b[0;34m\u001b[0m\u001b[0;34m\u001b[0m\u001b[0m\n\u001b[1;32m    620\u001b[0m             \u001b[0;32melse\u001b[0m\u001b[0;34m:\u001b[0m\u001b[0;34m\u001b[0m\u001b[0;34m\u001b[0m\u001b[0m\n\u001b[0;32m--> 621\u001b[0;31m                 \u001b[0;32mraise\u001b[0m \u001b[0mKeyError\u001b[0m\u001b[0;34m(\u001b[0m\u001b[0mgpr\u001b[0m\u001b[0;34m)\u001b[0m\u001b[0;34m\u001b[0m\u001b[0;34m\u001b[0m\u001b[0m\n\u001b[0m\u001b[1;32m    622\u001b[0m         \u001b[0;32melif\u001b[0m \u001b[0misinstance\u001b[0m\u001b[0;34m(\u001b[0m\u001b[0mgpr\u001b[0m\u001b[0;34m,\u001b[0m \u001b[0mGrouper\u001b[0m\u001b[0;34m)\u001b[0m \u001b[0;32mand\u001b[0m \u001b[0mgpr\u001b[0m\u001b[0;34m.\u001b[0m\u001b[0mkey\u001b[0m \u001b[0;32mis\u001b[0m \u001b[0;32mnot\u001b[0m \u001b[0;32mNone\u001b[0m\u001b[0;34m:\u001b[0m\u001b[0;34m\u001b[0m\u001b[0;34m\u001b[0m\u001b[0m\n\u001b[1;32m    623\u001b[0m             \u001b[0;31m# Add key to exclusions\u001b[0m\u001b[0;34m\u001b[0m\u001b[0;34m\u001b[0m\u001b[0;34m\u001b[0m\u001b[0m\n",
      "\u001b[0;31mKeyError\u001b[0m: 'station'"
     ]
    }
   ],
   "source": [
    "# Sum of entries by stations for a week (6 days due to solutuon limitation)\n",
    "station_weekly = mta_daily.groupby(['station'])['entries_daily'].sum().reset_index()"
   ]
  },
  {
   "cell_type": "code",
   "execution_count": null,
   "metadata": {},
   "outputs": [],
   "source": [
    "station_weekly"
   ]
  },
  {
   "cell_type": "markdown",
   "metadata": {},
   "source": [
    "# Graphs"
   ]
  },
  {
   "cell_type": "code",
   "execution_count": 39,
   "metadata": {},
   "outputs": [
    {
     "ename": "NameError",
     "evalue": "name 'station_weekly' is not defined",
     "output_type": "error",
     "traceback": [
      "\u001b[0;31m---------------------------------------------------------------------------\u001b[0m",
      "\u001b[0;31mNameError\u001b[0m                                 Traceback (most recent call last)",
      "\u001b[0;32m<ipython-input-39-0acadf91ba14>\u001b[0m in \u001b[0;36m<module>\u001b[0;34m\u001b[0m\n\u001b[0;32m----> 1\u001b[0;31m \u001b[0mplt\u001b[0m\u001b[0;34m.\u001b[0m\u001b[0mplot\u001b[0m\u001b[0;34m(\u001b[0m\u001b[0mstation_weekly\u001b[0m\u001b[0;34m[\u001b[0m\u001b[0;34m'station'\u001b[0m\u001b[0;34m]\u001b[0m\u001b[0;34m,\u001b[0m \u001b[0mstation_weekly\u001b[0m\u001b[0;34m[\u001b[0m\u001b[0;34m'entries_daily'\u001b[0m\u001b[0;34m]\u001b[0m\u001b[0;34m)\u001b[0m\u001b[0;34m\u001b[0m\u001b[0;34m\u001b[0m\u001b[0m\n\u001b[0m",
      "\u001b[0;31mNameError\u001b[0m: name 'station_weekly' is not defined"
     ]
    }
   ],
   "source": [
    "plt.plot(station_weekly['station'], station_weekly['entries_daily'])"
   ]
  },
  {
   "cell_type": "code",
   "execution_count": null,
   "metadata": {},
   "outputs": [],
   "source": []
  }
 ],
 "metadata": {
  "kernelspec": {
   "display_name": "metis",
   "language": "python",
   "name": "metis"
  },
  "language_info": {
   "codemirror_mode": {
    "name": "ipython",
    "version": 3
   },
   "file_extension": ".py",
   "mimetype": "text/x-python",
   "name": "python",
   "nbconvert_exporter": "python",
   "pygments_lexer": "ipython3",
   "version": "3.7.4"
  }
 },
 "nbformat": 4,
 "nbformat_minor": 2
}
